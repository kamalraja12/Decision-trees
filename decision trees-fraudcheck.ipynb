import pandas as pd
import matplotlib.pyplot as plt
import seaborn as sns
import numpy as np
from sklearn import datasets  
from sklearn.model_selection import train_test_split
from sklearn.tree import  DecisionTreeClassifier
from sklearn import tree
from sklearn.metrics import classification_report
from sklearn import preprocessing

data=pd.read_csv('D:\ExcelR\Assignments\decision trees\Fraud_check.csv')
data

data.shape
data.info()

sns.pairplot(data)
plt.figure(figsize=(20,10))
sns.heatmap(data.corr(),annot=True)

label_encoder = preprocessing.LabelEncoder()
data['Undergrad']= label_encoder.fit_transform(data['Undergrad'])
data['Urban']= label_encoder.fit_transform(data['Urban'])
data['Marital.Status']= label_encoder.fit_transform(data['Marital.Status'])
data

data['Status'] = data['Taxable.Income'].apply(lambda Income: 'Risky' if Income <= 30000 else 'Good')
data

data['Status'].unique()

label_encoder = preprocessing.LabelEncoder()
data['Status']= label_encoder.fit_transform(data['Status'])
data
x=data.iloc[:,0:4]
y=data['Status']

data['Status'].unique() 
data.Status.value_counts()

colnames = list(data.columns)
colnames

x_train, x_test,y_train,y_test = train_test_split(x,y, test_size=0.2,random_state=40)          # Splitting data into training and testing data set


# #Building Decision Tree Classifier using Entropy Criteria
model = DecisionTreeClassifier(criterion = 'entropy',max_depth=3)
model.fit(x_train,y_train) 

tree.plot_tree(model);             #Plot the decision tree

fn=['Undergrad'	,'Marital.Status','Taxable.Income','City.Population']
cn=['Good', 'Risky']
fig, axes = plt.subplots(nrows = 1,ncols = 1,figsize = (4,4), dpi=300)
tree.plot_tree(model,
               feature_names = fn, 
               class_names=cn,
               filled = True);

model.feature_importances_
feature_imp = pd.Series(model.feature_importances_,index=fn).sort_values(ascending=False) 
feature_imp

sns.barplot(x=feature_imp, y=feature_imp.index)
plt.xlabel('Feature Importance Score')
plt.ylabel('Features')
plt.title("Visualizing Important Features")
plt.show()

#Predicting on test data
preds = model.predict(x_test)    
pd.Series(preds).value_counts() 

preds

pd.crosstab(y_test,preds)
np.mean(preds==y_test)


# #Building Decision Tree Classifier (CART) using Gini Criteria


model_gini = DecisionTreeClassifier(criterion='gini', max_depth=3)
model_gini.fit(x_train, y_train)

pred=model.predict(x_test)
np.mean(preds==y_test)     

model.feature_importances_


# #Decision Tree Regression

from sklearn.tree import DecisionTreeRegressor

array = data.values
X = array[:,0:4]
y = array[:,3]

X_train, X_test, y_train, y_test = train_test_split(X, y, test_size=0.33, random_state=1)

model = DecisionTreeRegressor()
model.fit(X_train, y_train)
model.score(X_test,y_test) 
